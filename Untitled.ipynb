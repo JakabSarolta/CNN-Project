{
 "cells": [
  {
   "cell_type": "code",
   "execution_count": 1,
   "id": "1f666b90",
   "metadata": {},
   "outputs": [],
   "source": [
    "import matplotlib.pyplot as plt\n",
    "import csv\n",
    "import os\n",
    "import numpy as np\n",
    "from PIL import Image\n",
    "from sklearn.model_selection import train_test_split\n",
    "import cv2\n",
    "\n",
    "from keras import Model\n",
    "from keras import Input\n",
    "from keras.layers import Dense\n",
    "from keras.layers import Normalization\n",
    "from keras.layers import Rescaling\n",
    "from keras.layers import Conv2D\n",
    "from keras.layers import MaxPooling2D\n",
    "from keras.layers import Flatten\n",
    "from keras.callbacks import EarlyStopping\n",
    "\n",
    "from keras.datasets import mnist\n",
    "\n",
    "from keras.optimizers import RMSprop\n",
    "\n",
    "from keras.utils import to_categorical\n",
    "\n",
    "from keras.datasets.mnist import load_data"
   ]
  },
  {
   "cell_type": "code",
   "execution_count": 2,
   "id": "1aad13dd",
   "metadata": {},
   "outputs": [],
   "source": [
    "# Set the path to the folder containing the images\n",
    "folder_path = \"Dataset/\"\n",
    "\n",
    "# Initialize empty lists to hold the image data and labels\n",
    "data = []\n",
    "\n",
    "file_names = os.listdir(folder_path)\n",
    "\n",
    "def extract_number(filename):\n",
    "    return int(''.join(filter(str.isdigit, filename)))\n",
    "\n",
    "sorted_file_names = sorted(file_names, key=extract_number)"
   ]
  },
  {
   "cell_type": "code",
   "execution_count": 3,
   "id": "a4b74465",
   "metadata": {},
   "outputs": [],
   "source": [
    "# Loop through the image files and add them to the data and label lists\n",
    "for filename in sorted_file_names:\n",
    "    # Open the image file using PIL\n",
    "    image = Image.open(os.path.join(folder_path, filename))\n",
    "\n",
    "    \n",
    "    # Convert the image to a numpy array\n",
    "    image_data = np.array(image)\n",
    "    gray_image = cv2.cvtColor(image_data, cv2.COLOR_BGR2GRAY)\n",
    "\n",
    "    # Add the image data to the data list\n",
    "    data.append(255 - gray_image)"
   ]
  },
  {
   "cell_type": "code",
   "execution_count": 4,
   "id": "2bf94b3e",
   "metadata": {},
   "outputs": [],
   "source": [
    "labels_array = []\n",
    "\n",
    "with open('labels.csv', 'r') as csvfile:\n",
    "    csvreader = csv.reader(csvfile)\n",
    "    for row in csvreader:\n",
    "        for label in row:\n",
    "            labels_array.append(label)\n",
    "            \n",
    "labels = np.array(labels_array)"
   ]
  },
  {
   "cell_type": "code",
   "execution_count": 5,
   "id": "fbfd87b9",
   "metadata": {},
   "outputs": [
    {
     "data": {
      "text/plain": "<Figure size 640x480 with 1 Axes>",
      "image/png": "[encoded data removed]"
     },
     "metadata": {},
     "output_type": "display_data"
    }
   ],
   "source": [
    "fig = plt.figure()\n",
    "plt.imshow(data[1673], cmap=plt.cm.binary, interpolation=\"nearest\")\n",
    "plt.axis(\"off\")\n",
    "plt.show()"
   ]
  },
  {
   "cell_type": "code",
   "execution_count": 6,
   "id": "b98cd81d",
   "metadata": {},
   "outputs": [
    {
     "data": {
      "text/plain": "'0'"
     },
     "execution_count": 6,
     "metadata": {},
     "output_type": "execute_result"
    }
   ],
   "source": [
    "labels[1673]"
   ]
  },
  {
   "cell_type": "code",
   "execution_count": 8,
   "id": "5435f5e4",
   "metadata": {},
   "outputs": [
    {
     "name": "stdout",
     "output_type": "stream",
     "text": [
      "Training set size: 8000\n",
      "Testing set size: 2000\n"
     ]
    }
   ],
   "source": [
    "# Split the data and labels into training and testing sets\n",
    "X_train, X_test, y_train, y_test = train_test_split(data, labels, test_size=0.2)\n",
    "\n",
    "# Print the size of the training and testing sets\n",
    "print(\"Training set size:\", len(X_train))\n",
    "print(\"Testing set size:\", len(X_test))"
   ]
  },
  {
   "cell_type": "code",
   "execution_count": 10,
   "id": "95966730",
   "metadata": {},
   "outputs": [
    {
     "ename": "AttributeError",
     "evalue": "'list' object has no attribute 'reshape'",
     "output_type": "error",
     "traceback": [
      "\u001B[1;31m---------------------------------------------------------------------------\u001B[0m",
      "\u001B[1;31mAttributeError\u001B[0m                            Traceback (most recent call last)",
      "Cell \u001B[1;32mIn[10], line 1\u001B[0m\n\u001B[1;32m----> 1\u001B[0m X_train \u001B[38;5;241m=\u001B[39m \u001B[43mX_train\u001B[49m\u001B[38;5;241;43m.\u001B[39;49m\u001B[43mreshape\u001B[49m((\u001B[38;5;241m8000\u001B[39m, \u001B[38;5;241m40\u001B[39m\u001B[38;5;241m*\u001B[39m\u001B[38;5;241m108\u001B[39m))\n\u001B[0;32m      2\u001B[0m X_test \u001B[38;5;241m=\u001B[39m X_test\u001B[38;5;241m.\u001B[39mreshape((\u001B[38;5;241m2000\u001B[39m, \u001B[38;5;241m40\u001B[39m\u001B[38;5;241m*\u001B[39m\u001B[38;5;241m108\u001B[39m))\n",
      "\u001B[1;31mAttributeError\u001B[0m: 'list' object has no attribute 'reshape'"
     ]
    }
   ],
   "source": [
    "X_train = X_train.reshape((8000, 40*108))\n",
    "X_test = X_test.reshape((2000, 40*108))"
   ]
  },
  {
   "cell_type": "code",
   "execution_count": null,
   "id": "47e95cec",
   "metadata": {},
   "outputs": [],
   "source": [
    "fig = plt.figure()\n",
    "plt.imshow(X_train[0], cmap=plt.cm.binary, interpolation=\"nearest\")\n",
    "plt.axis(\"off\")\n",
    "plt.show()"
   ]
  },
  {
   "cell_type": "code",
   "execution_count": null,
   "id": "46de2856",
   "metadata": {},
   "outputs": [],
   "source": [
    "# Take a look at its class\n",
    "y_train[0]"
   ]
  },
  {
   "cell_type": "code",
   "execution_count": null,
   "id": "03135428",
   "metadata": {},
   "outputs": [],
   "source": [
    "inputs = Input(shape=(39, 108, 1))\n",
    "x = Rescaling(scale=1./255)(inputs)\n",
    "x = Conv2D(filters=32, kernel_size=(3, 3), activation=\"relu\")(x)\n",
    "x = MaxPooling2D(pool_size=(2, 2))(x)\n",
    "x = Conv2D(filters=64, kernel_size=(3, 3), activation=\"relu\")(x)\n",
    "x = MaxPooling2D(pool_size=(2, 2))(x)\n",
    "x = Conv2D(filters=64, kernel_size=(3, 3), activation=\"relu\")(x)\n",
    "x = Flatten()(x)\n",
    "x = Dense(64, activation=\"relu\")(x)\n",
    "outputs = Dense(10, activation=\"softmax\")(x)\n",
    "convnet = Model(inputs, outputs)\n",
    "convnet.compile(optimizer=RMSprop(learning_rate=0.0001), loss=\"sparse_categorical_crossentropy\", metrics=[\"accuracy\"])"
   ]
  },
  {
   "cell_type": "code",
   "execution_count": null,
   "id": "7ef3e5b8",
   "metadata": {},
   "outputs": [],
   "source": [
    "convnet.summary()"
   ]
  },
  {
   "cell_type": "code",
   "execution_count": null,
   "id": "5e2553ac",
   "metadata": {},
   "outputs": [],
   "source": [
    "convnet.fit(X_train, y_train, epochs=20, batch_size=32, \n",
    "            verbose=0, validation_split=0.2, \n",
    "            callbacks=[EarlyStopping(monitor=\"val_loss\", patience=2, restore_best_weights=True)])"
   ]
  },
  {
   "cell_type": "code",
   "execution_count": null,
   "id": "db12aaee",
   "metadata": {},
   "outputs": [],
   "source": []
  }
 ],
 "metadata": {
  "kernelspec": {
   "display_name": "Python 3 (ipykernel)",
   "language": "python",
   "name": "python3"
  },
  "language_info": {
   "codemirror_mode": {
    "name": "ipython",
    "version": 3
   },
   "file_extension": ".py",
   "mimetype": "text/x-python",
   "name": "python",
   "nbconvert_exporter": "python",
   "pygments_lexer": "ipython3",
   "version": "3.10.0"
  }
 },
 "nbformat": 4,
 "nbformat_minor": 5
}
