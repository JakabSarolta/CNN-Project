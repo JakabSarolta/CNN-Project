{
 "cells": [
  {
   "cell_type": "markdown",
   "id": "9b60fbb8",
   "metadata": {},
   "source": [
    "# Handwritten Number Recognition with Multiple Digits\n",
    "## 1, 2, 3-digit numbers"
   ]
  },
  {
   "cell_type": "code",
   "execution_count": 33,
   "id": "1f666b90",
   "metadata": {
    "pycharm": {
     "is_executing": true
    }
   },
   "outputs": [],
   "source": [
    "import matplotlib.pyplot as plt\n",
    "import csv\n",
    "import os\n",
    "import numpy as np\n",
    "from PIL import Image\n",
    "from sklearn.model_selection import train_test_split\n",
    "import cv2\n",
    "\n",
    "from keras import Model\n",
    "from keras import Input\n",
    "from keras.layers import Dense\n",
    "from keras.layers import Normalization\n",
    "from keras.layers import Rescaling\n",
    "from keras.layers import Conv2D\n",
    "from keras.layers import MaxPooling2D\n",
    "from keras.layers import Flatten\n",
    "from keras.callbacks import EarlyStopping\n",
    "\n",
    "from keras.datasets import mnist\n",
    "\n",
    "from keras.optimizers import RMSprop\n",
    "\n",
    "from keras.utils import to_categorical\n",
    "\n",
    "from keras.datasets.mnist import load_data"
   ]
  },
  {
   "cell_type": "markdown",
   "id": "3a0b4d07",
   "metadata": {},
   "source": [
    "# Reading the images from the 'Dataset' folder\n",
    "\n",
    "Sort by filename"
   ]
  },
  {
   "cell_type": "code",
   "execution_count": 34,
   "id": "1aad13dd",
   "metadata": {},
   "outputs": [],
   "source": [
    "folder_path = \"Dataset/\"\n",
    "\n",
    "data = []\n",
    "\n",
    "file_names = os.listdir(folder_path)\n",
    "\n",
    "def extract_number(filename):\n",
    "    return int(''.join(filter(str.isdigit, filename)))\n",
    "\n",
    "sorted_file_names = sorted(file_names, key=extract_number)"
   ]
  },
  {
   "cell_type": "markdown",
   "id": "0732a614",
   "metadata": {},
   "source": [
    "Convert images to grayscale and into numpy arrays.\n",
    "\n",
    "The images are added to the data list."
   ]
  },
  {
   "cell_type": "code",
   "execution_count": 35,
   "id": "a4b74465",
   "metadata": {},
   "outputs": [],
   "source": [
    "for filename in sorted_file_names:\n",
    "    # Opening the image file using PIL\n",
    "    image = Image.open(os.path.join(folder_path, filename))\n",
    "\n",
    "    image_data = np.array(image)\n",
    "    gray_image = cv2.cvtColor(image_data, cv2.COLOR_BGR2GRAY)\n",
    "\n",
    "    data.append(255 - gray_image)"
   ]
  },
  {
   "cell_type": "markdown",
   "id": "4b8e47b2",
   "metadata": {},
   "source": [
    "Read all the labels from a csv file and convert them into a numpy array."
   ]
  },
  {
   "cell_type": "code",
   "execution_count": 36,
   "id": "2bf94b3e",
   "metadata": {},
   "outputs": [],
   "source": [
    "labels_array = []\n",
    "\n",
    "with open('labels.csv', 'r') as csvfile:\n",
    "    csvreader = csv.reader(csvfile)\n",
    "    for row in csvreader:\n",
    "        for label in row:\n",
    "            labels_array.append(label)\n",
    "            \n",
    "labels = np.array(labels_array)"
   ]
  },
  {
   "cell_type": "markdown",
   "id": "6b550f21",
   "metadata": {},
   "source": [
    "# Explore the Data - Visualization\n",
    "\n",
    "Check how an image looks like after reading it from the input, and its label."
   ]
  },
  {
   "cell_type": "code",
   "execution_count": 37,
   "id": "fbfd87b9",
   "metadata": {},
   "outputs": [
    {
     "data": {
      "image/png": "[encoded data removed]",
      "text/plain": [
       "<Figure size 640x480 with 1 Axes>"
      ]
     },
     "metadata": {},
     "output_type": "display_data"
    }
   ],
   "source": [
    "fig = plt.figure()\n",
    "plt.imshow(data[1678], cmap=plt.cm.binary, interpolation=\"nearest\")\n",
    "plt.axis(\"off\")\n",
    "plt.show()"
   ]
  },
  {
   "cell_type": "code",
   "execution_count": 38,
   "id": "b98cd81d",
   "metadata": {},
   "outputs": [
    {
     "data": {
      "text/plain": [
       "'8'"
      ]
     },
     "execution_count": 38,
     "metadata": {},
     "output_type": "execute_result"
    }
   ],
   "source": [
    "labels[1678]"
   ]
  },
  {
   "cell_type": "markdown",
   "id": "d5e3f225",
   "metadata": {},
   "source": [
    "The labels and number are in correct pairs, as the above example shows.\n",
    "\n",
    "## Reshaping\n",
    "\n",
    "Because the sizes of the images differ, padding must be added so all images have the same dimensions."
   ]
  },
  {
   "cell_type": "code",
   "execution_count": 39,
   "id": "5142cd60",
   "metadata": {},
   "outputs": [
    {
     "name": "stdout",
     "output_type": "stream",
     "text": [
      "75\n",
      "26\n"
     ]
    }
   ],
   "source": [
    "#select max width for the padding\n",
    "print(len(data[0][0]))\n",
    "max_width = len(data[0][0])\n",
    "#select max height for the padding\n",
    "print(len(data[0]))\n",
    "max_height = len(data[0])"
   ]
  },
  {
   "cell_type": "code",
   "execution_count": 40,
   "id": "d276ae1f",
   "metadata": {},
   "outputs": [
    {
     "name": "stdout",
     "output_type": "stream",
     "text": [
      "108\n",
      "40\n"
     ]
    }
   ],
   "source": [
    "for i in range(0,len(data)):\n",
    "    #print(len(data[i][0]))\n",
    "    if max_width < len(data[i][0]):\n",
    "        max_width = len(data[i][0])\n",
    "    #print(len(data[i]))\n",
    "    if max_height < len(data[i]):\n",
    "        max_height = len(data[i])\n",
    "        \n",
    "print(max_width)\n",
    "print(max_height)"
   ]
  },
  {
   "cell_type": "markdown",
   "id": "bf39fee8",
   "metadata": {},
   "source": [
    "After finding the max width and length, we insert white pixels into the matrixes representing the images (rows or columns of 0s)."
   ]
  },
  {
   "cell_type": "code",
   "execution_count": 41,
   "id": "82ab5852",
   "metadata": {},
   "outputs": [],
   "source": [
    "#padding\n",
    "padded_images = []\n",
    "for i in range(0,len(data)):\n",
    "    image = data[i]\n",
    "    padded_image = np.pad(image, ((0, max_height - image.shape[0]), (0, max_width - image.shape[1])), mode='constant')\n",
    "    padded_images.append(padded_image)\n",
    "\n",
    "# for i in range(len(data) - 1):\n",
    "#     print(\"Height: \", len(padded_images[i]))\n",
    "#     print(\"Width: \", len(padded_images[i][0]))"
   ]
  },
  {
   "cell_type": "markdown",
   "id": "8ab13cb6",
   "metadata": {},
   "source": [
    "Check randomly how an image looks like after inserting padding."
   ]
  },
  {
   "cell_type": "code",
   "execution_count": 42,
   "id": "bbe9f029",
   "metadata": {},
   "outputs": [
    {
     "data": {
      "image/png": "[encoded data removed]",
      "text/plain": [
       "<Figure size 640x480 with 1 Axes>"
      ]
     },
     "metadata": {},
     "output_type": "display_data"
    }
   ],
   "source": [
    "fig = plt.figure()\n",
    "plt.imshow(data[1675], cmap=plt.cm.binary, interpolation=\"nearest\")\n",
    "plt.axis(\"off\")\n",
    "plt.show()"
   ]
  },
  {
   "cell_type": "code",
   "execution_count": 43,
   "id": "cac217dc",
   "metadata": {},
   "outputs": [],
   "source": [
    "# Convert the labels to have type int instead of string\n",
    "labels = labels.astype(int)"
   ]
  },
  {
   "cell_type": "markdown",
   "id": "93328111",
   "metadata": {},
   "source": [
    "# Split the data - Train and Test Sets"
   ]
  },
  {
   "cell_type": "code",
   "execution_count": 44,
   "id": "5435f5e4",
   "metadata": {},
   "outputs": [
    {
     "name": "stdout",
     "output_type": "stream",
     "text": [
      "Training set size: 8000\n",
      "Testing set size: 2000\n"
     ]
    }
   ],
   "source": [
    "# Split the data and labels into training and testing sets\n",
    "X_train, X_test, y_train, y_test = train_test_split(padded_images, labels, test_size=0.2)\n",
    "\n",
    "# Print the size of the training and testing sets\n",
    "print(\"Training set size:\", len(X_train))\n",
    "print(\"Testing set size:\", len(X_test))"
   ]
  },
  {
   "cell_type": "code",
   "execution_count": 45,
   "id": "9ae9dec2",
   "metadata": {},
   "outputs": [],
   "source": [
    "# Convert all of them into numpy arrays\n",
    "X_train = np.array(X_train)\n",
    "X_test = np.array(X_test)\n",
    "y_train = np.array(y_train)\n",
    "y_test = np.array(y_test)"
   ]
  },
  {
   "cell_type": "code",
   "execution_count": 46,
   "id": "95966730",
   "metadata": {},
   "outputs": [],
   "source": [
    "# X_train = x_train.reshape((8000, max_height*max_width))\n",
    "# X_test = x_test.reshape((2000, max_height*max_width))"
   ]
  },
  {
   "cell_type": "markdown",
   "id": "1c5908fa",
   "metadata": {},
   "source": [
    "Check an image from the training set and its label."
   ]
  },
  {
   "cell_type": "code",
   "execution_count": 47,
   "id": "47e95cec",
   "metadata": {},
   "outputs": [
    {
     "data": {
      "image/png": "[encoded data removed]",
      "text/plain": [
       "<Figure size 640x480 with 1 Axes>"
      ]
     },
     "metadata": {},
     "output_type": "display_data"
    }
   ],
   "source": [
    "fig = plt.figure()\n",
    "plt.imshow(X_train[0], cmap=plt.cm.binary, interpolation=\"nearest\")\n",
    "plt.axis(\"off\")\n",
    "plt.show()"
   ]
  },
  {
   "cell_type": "code",
   "execution_count": 48,
   "id": "46de2856",
   "metadata": {},
   "outputs": [
    {
     "data": {
      "text/plain": [
       "11"
      ]
     },
     "execution_count": 48,
     "metadata": {},
     "output_type": "execute_result"
    }
   ],
   "source": [
    "# Take a look at its class\n",
    "y_train[0]"
   ]
  },
  {
   "cell_type": "markdown",
   "id": "13fe4f2a",
   "metadata": {},
   "source": [
    "As the previous example shows, the labels and images are in order.\n",
    "\n",
    "# Building a Convolutional Neural Net\n",
    "\n",
    "Our model consists of several layers: \n",
    "* an input layer of size max width and max height, the depth being 1 for grayscale image\n",
    "* a rescaling layer: to work easily with the numbers in the matrices, all numbers should be between 0 and 1. Therefore, the greyscale values should be divided by 255\n",
    "* convolutional layers: they contain 64 or 128 filters/neurons; the chosen kernel size is 3x3 and the activation function is ReLU\n",
    "* max pooling layers: they decrease the input to half of its size, however, the depth doesn't change; the pooling window indicates the decrease height/2, width/2\n",
    "* flattening layer: creates a list from the matrices, multiplying all the dimensions\n",
    "* dense layer: they are the tipical neural net layers where all neurons are connected with every other neuron; one of the dense layers has 2048, the other one 1000 neurons\n",
    "* output layer: the last dense layer, which has 1000 neurons, one to predict each number from the interval [0-999]; it uses softmax activation function"
   ]
  },
  {
   "cell_type": "code",
   "execution_count": 49,
   "id": "03135428",
   "metadata": {},
   "outputs": [],
   "source": [
    "inputs = Input(shape=(40, 108, 1))\n",
    "x = Rescaling(scale=1./255)(inputs)\n",
    "x = Conv2D(filters=64, kernel_size=(3, 3), activation=\"relu\")(x)\n",
    "x = MaxPooling2D(pool_size=(2, 2))(x)\n",
    "x = Conv2D(filters=128, kernel_size=(3, 3), activation=\"relu\")(x)\n",
    "x = MaxPooling2D(pool_size=(2, 2))(x)\n",
    "x = Conv2D(filters=128, kernel_size=(3, 3), activation=\"relu\")(x)\n",
    "x = MaxPooling2D(pool_size=(2, 2))(x)\n",
    "x = Flatten()(x)\n",
    "x = Dense(2048, activation=\"relu\")(x)\n",
    "outputs = Dense(1000, activation=\"softmax\")(x)\n",
    "convnet = Model(inputs, outputs)\n",
    "convnet.compile(optimizer=\"adam\", loss=\"sparse_categorical_crossentropy\", metrics=[\"accuracy\"])"
   ]
  },
  {
   "cell_type": "code",
   "execution_count": 50,
   "id": "7ef3e5b8",
   "metadata": {},
   "outputs": [
    {
     "name": "stdout",
     "output_type": "stream",
     "text": [
      "Model: \"model_1\"\n",
      "_________________________________________________________________\n",
      " Layer (type)                Output Shape              Param #   \n",
      "=================================================================\n",
      " input_2 (InputLayer)        [(None, 40, 108, 1)]      0         \n",
      "                                                                 \n",
      " rescaling_1 (Rescaling)     (None, 40, 108, 1)        0         \n",
      "                                                                 \n",
      " conv2d_2 (Conv2D)           (None, 38, 106, 64)       640       \n",
      "                                                                 \n",
      " max_pooling2d_2 (MaxPooling  (None, 19, 53, 64)       0         \n",
      " 2D)                                                             \n",
      "                                                                 \n",
      " conv2d_3 (Conv2D)           (None, 17, 51, 128)       73856     \n",
      "                                                                 \n",
      " max_pooling2d_3 (MaxPooling  (None, 8, 25, 128)       0         \n",
      " 2D)                                                             \n",
      "                                                                 \n",
      " conv2d_4 (Conv2D)           (None, 6, 23, 128)        147584    \n",
      "                                                                 \n",
      " max_pooling2d_4 (MaxPooling  (None, 3, 11, 128)       0         \n",
      " 2D)                                                             \n",
      "                                                                 \n",
      " flatten_1 (Flatten)         (None, 4224)              0         \n",
      "                                                                 \n",
      " dense_2 (Dense)             (None, 2048)              8652800   \n",
      "                                                                 \n",
      " dense_3 (Dense)             (None, 1000)              2049000   \n",
      "                                                                 \n",
      "=================================================================\n",
      "Total params: 10,923,880\n",
      "Trainable params: 10,923,880\n",
      "Non-trainable params: 0\n",
      "_________________________________________________________________\n"
     ]
    }
   ],
   "source": [
    "convnet.summary()"
   ]
  },
  {
   "cell_type": "markdown",
   "id": "5a7ab4eb",
   "metadata": {},
   "source": [
    "The summary shows the output shape, where we can see how the 40 * 108 size matrix decreases gradually, and it shows the number of parameters in each layer. The number of these parameters can be calculated by taking into consideration the type of the layer and the shape of the previous layer."
   ]
  },
  {
   "cell_type": "markdown",
   "id": "09867b80",
   "metadata": {},
   "source": [
    "# Training the Neural Net\n",
    "\n",
    "The .fit function trains the neural net, using a batch size of 128 (chosen by us), and it calculates in 10 epochs"
   ]
  },
  {
   "cell_type": "code",
   "execution_count": 51,
   "id": "5e2553ac",
   "metadata": {},
   "outputs": [
    {
     "name": "stdout",
     "output_type": "stream",
     "text": [
      "Epoch 1/10\n",
      "50/50 [==============================] - 65s 1s/step - loss: 4.7365 - accuracy: 0.0933 - val_loss: 4.0847 - val_accuracy: 0.1138\n",
      "Epoch 2/10\n",
      "50/50 [==============================] - 62s 1s/step - loss: 3.5889 - accuracy: 0.2130 - val_loss: 3.1508 - val_accuracy: 0.3019\n",
      "Epoch 3/10\n",
      "50/50 [==============================] - 62s 1s/step - loss: 2.3301 - accuracy: 0.4444 - val_loss: 2.4282 - val_accuracy: 0.4544\n",
      "Epoch 4/10\n",
      "50/50 [==============================] - 62s 1s/step - loss: 1.2259 - accuracy: 0.6770 - val_loss: 2.0880 - val_accuracy: 0.5288\n",
      "Epoch 5/10\n",
      "50/50 [==============================] - 61s 1s/step - loss: 0.4582 - accuracy: 0.8706 - val_loss: 2.4033 - val_accuracy: 0.5456\n",
      "Epoch 6/10\n",
      "50/50 [==============================] - 61s 1s/step - loss: 0.1709 - accuracy: 0.9519 - val_loss: 2.7797 - val_accuracy: 0.5569\n"
     ]
    },
    {
     "data": {
      "text/plain": [
       "<keras.callbacks.History at 0x1fd89ac90f0>"
      ]
     },
     "execution_count": 51,
     "metadata": {},
     "output_type": "execute_result"
    }
   ],
   "source": [
    "convnet.fit(X_train, y_train, epochs=10, batch_size=128, \n",
    "            validation_split=0.2, \n",
    "            callbacks=[EarlyStopping(monitor=\"val_loss\", patience=2, restore_best_weights=True)])"
   ]
  },
  {
   "cell_type": "code",
   "execution_count": 52,
   "id": "db12aaee",
   "metadata": {},
   "outputs": [
    {
     "name": "stdout",
     "output_type": "stream",
     "text": [
      "63/63 [==============================] - 6s 100ms/step - loss: 2.0227 - accuracy: 0.5390\n"
     ]
    },
    {
     "data": {
      "text/plain": [
       "0.5389999747276306"
      ]
     },
     "execution_count": 52,
     "metadata": {},
     "output_type": "execute_result"
    }
   ],
   "source": [
    "test_loss, test_acc = convnet.evaluate(X_test, y_test)\n",
    "test_acc"
   ]
  },
  {
   "cell_type": "code",
   "execution_count": 53,
   "id": "23035589",
   "metadata": {},
   "outputs": [],
   "source": []
  }
 ],
 "metadata": {
  "kernelspec": {
   "display_name": "Python 3 (ipykernel)",
   "language": "python",
   "name": "python3"
  },
  "language_info": {
   "codemirror_mode": {
    "name": "ipython",
    "version": 3
   },
   "file_extension": ".py",
   "mimetype": "text/x-python",
   "name": "python",
   "nbconvert_exporter": "python",
   "pygments_lexer": "ipython3",
   "version": "3.10.0"
  }
 },
 "nbformat": 4,
 "nbformat_minor": 5
}
