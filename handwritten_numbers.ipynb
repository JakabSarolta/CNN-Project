{
 "cells": [
  {
   "cell_type": "markdown",
   "id": "e51ba266",
   "metadata": {},
   "source": [
    "# Handwritten Number Recognition with Multiple Digits\n",
    "## 1, 2, 3-digit numbers"
   ]
  },
  {
   "cell_type": "code",
   "execution_count": 57,
   "id": "1f666b90",
   "metadata": {
    "pycharm": {
     "is_executing": true
    }
   },
   "outputs": [],
   "source": [
    "import matplotlib.pyplot as plt\n",
    "import csv\n",
    "import os\n",
    "import numpy as np\n",
    "from PIL import Image\n",
    "from sklearn.model_selection import train_test_split\n",
    "import cv2\n",
    "\n",
    "from keras import Model\n",
    "from keras import Input\n",
    "from keras.layers import Dense\n",
    "from keras.layers import Normalization\n",
    "from keras.layers import Rescaling\n",
    "from keras.layers import Conv2D\n",
    "from keras.layers import MaxPooling2D\n",
    "from keras.layers import Flatten\n",
    "from keras.callbacks import EarlyStopping\n",
    "\n",
    "from keras.datasets import mnist\n",
    "\n",
    "from keras.optimizers import RMSprop\n",
    "\n",
    "from keras.utils import to_categorical\n",
    "\n",
    "from keras.datasets.mnist import load_data"
   ]
  },
  {
   "cell_type": "markdown",
   "id": "a52590c6",
   "metadata": {},
   "source": [
    "# Reading the images from the 'Dataset' folder\n",
    "\n",
    "Sort by filename"
   ]
  },
  {
   "cell_type": "code",
   "execution_count": 58,
   "id": "1aad13dd",
   "metadata": {},
   "outputs": [],
   "source": [
    "folder_path = \"Dataset/\"\n",
    "\n",
    "data = []\n",
    "\n",
    "file_names = os.listdir(folder_path)\n",
    "\n",
    "def extract_number(filename):\n",
    "    return int(''.join(filter(str.isdigit, filename)))\n",
    "\n",
    "sorted_file_names = sorted(file_names, key=extract_number)"
   ]
  },
  {
   "cell_type": "markdown",
   "id": "fc1a5068",
   "metadata": {},
   "source": [
    "Convert images to grayscale and into numpy arrays.\n",
    "\n",
    "The images are added to the data list."
   ]
  },
  {
   "cell_type": "code",
   "execution_count": 59,
   "id": "a4b74465",
   "metadata": {},
   "outputs": [],
   "source": [
    "for filename in sorted_file_names:\n",
    "    # Opening the image file using PIL\n",
    "    image = Image.open(os.path.join(folder_path, filename))\n",
    "\n",
    "    image_data = np.array(image)\n",
    "    gray_image = cv2.cvtColor(image_data, cv2.COLOR_BGR2GRAY)\n",
    "\n",
    "    data.append(255 - gray_image)"
   ]
  },
  {
   "cell_type": "markdown",
   "id": "fa8dc183",
   "metadata": {},
   "source": [
    "Read all the labels from a csv file and convert them into a numpy array."
   ]
  },
  {
   "cell_type": "code",
   "execution_count": 60,
   "id": "2bf94b3e",
   "metadata": {},
   "outputs": [],
   "source": [
    "labels_array = []\n",
    "\n",
    "with open('labels.csv', 'r') as csvfile:\n",
    "    csvreader = csv.reader(csvfile)\n",
    "    for row in csvreader:\n",
    "        for label in row:\n",
    "            labels_array.append(label)\n",
    "            \n",
    "labels = np.array(labels_array)"
   ]
  },
  {
   "cell_type": "markdown",
   "id": "1ee08f79",
   "metadata": {},
   "source": [
    "# Explore the Data - Visualization\n",
    "\n",
    "Check how an image looks like after reading it from the input, and its label."
   ]
  },
  {
   "cell_type": "code",
   "execution_count": 61,
   "id": "fbfd87b9",
   "metadata": {},
   "outputs": [
    {
     "data": {
      "image/png": "[encoded data removed]",
      "text/plain": [
       "<Figure size 640x480 with 1 Axes>"
      ]
     },
     "metadata": {},
     "output_type": "display_data"
    }
   ],
   "source": [
    "fig = plt.figure()\n",
    "plt.imshow(data[1678], cmap=plt.cm.binary, interpolation=\"nearest\")\n",
    "plt.axis(\"off\")\n",
    "plt.show()"
   ]
  },
  {
   "cell_type": "code",
   "execution_count": 62,
   "id": "b98cd81d",
   "metadata": {},
   "outputs": [
    {
     "data": {
      "text/plain": [
       "'8'"
      ]
     },
     "execution_count": 62,
     "metadata": {},
     "output_type": "execute_result"
    }
   ],
   "source": [
    "labels[1678]"
   ]
  },
  {
   "cell_type": "markdown",
   "id": "8dd84ae7",
   "metadata": {},
   "source": [
    "The labels and number are in correct pairs, as the above example shows.\n",
    "\n",
    "## Reshaping\n",
    "\n",
    "Because the sizes of the images differ, padding must be added so all images have the same dimensions."
   ]
  },
  {
   "cell_type": "code",
   "execution_count": 63,
   "id": "5142cd60",
   "metadata": {},
   "outputs": [
    {
     "name": "stdout",
     "output_type": "stream",
     "text": [
      "75\n",
      "26\n"
     ]
    }
   ],
   "source": [
    "#select max width for the padding\n",
    "print(len(data[0][0]))\n",
    "max_width = len(data[0][0])\n",
    "#select max height for the padding\n",
    "print(len(data[0]))\n",
    "max_height = len(data[0])"
   ]
  },
  {
   "cell_type": "code",
   "execution_count": 64,
   "id": "d276ae1f",
   "metadata": {},
   "outputs": [
    {
     "name": "stdout",
     "output_type": "stream",
     "text": [
      "108\n",
      "40\n"
     ]
    }
   ],
   "source": [
    "for i in range(0,len(data)):\n",
    "    #print(len(data[i][0]))\n",
    "    if max_width < len(data[i][0]):\n",
    "        max_width = len(data[i][0])\n",
    "    #print(len(data[i]))\n",
    "    if max_height < len(data[i]):\n",
    "        max_height = len(data[i])\n",
    "        \n",
    "print(max_width)\n",
    "print(max_height)"
   ]
  },
  {
   "cell_type": "markdown",
   "id": "c639ed6f",
   "metadata": {},
   "source": [
    "After finding the max width and length, we insert white pixels into the matrixes representing the images (rows or columns of 0s)."
   ]
  },
  {
   "cell_type": "code",
   "execution_count": 65,
   "id": "82ab5852",
   "metadata": {},
   "outputs": [],
   "source": [
    "#padding\n",
    "padded_images = []\n",
    "for i in range(0,len(data)):\n",
    "    image = data[i]\n",
    "    padded_image = np.pad(image, ((0, max_height - image.shape[0]), (0, max_width - image.shape[1])), mode='constant')\n",
    "    padded_images.append(padded_image)\n",
    "\n",
    "# for i in range(len(data) - 1):\n",
    "#     print(\"Height: \", len(padded_images[i]))\n",
    "#     print(\"Width: \", len(padded_images[i][0]))"
   ]
  },
  {
   "cell_type": "markdown",
   "id": "204b5fe5",
   "metadata": {},
   "source": [
    "Check randomly how an image looks like after inserting padding."
   ]
  },
  {
   "cell_type": "code",
   "execution_count": 66,
   "id": "bbe9f029",
   "metadata": {},
   "outputs": [
    {
     "data": {
      "image/png": "[encoded data removed]",
      "text/plain": [
       "<Figure size 640x480 with 1 Axes>"
      ]
     },
     "metadata": {},
     "output_type": "display_data"
    }
   ],
   "source": [
    "fig = plt.figure()\n",
    "plt.imshow(data[1675], cmap=plt.cm.binary, interpolation=\"nearest\")\n",
    "plt.axis(\"off\")\n",
    "plt.show()"
   ]
  },
  {
   "cell_type": "code",
   "execution_count": 67,
   "id": "cac217dc",
   "metadata": {},
   "outputs": [],
   "source": [
    "# Convert the labels to have type int instead of string\n",
    "labels = labels.astype(int)"
   ]
  },
  {
   "cell_type": "markdown",
   "id": "a6030098",
   "metadata": {},
   "source": [
    "# Split the data - Train and Test Sets"
   ]
  },
  {
   "cell_type": "code",
   "execution_count": 68,
   "id": "5435f5e4",
   "metadata": {},
   "outputs": [
    {
     "name": "stdout",
     "output_type": "stream",
     "text": [
      "Training set size: 8000\n",
      "Testing set size: 2000\n"
     ]
    }
   ],
   "source": [
    "# Split the data and labels into training and testing sets\n",
    "X_train, X_test, y_train, y_test = train_test_split(padded_images, labels, test_size=0.2)\n",
    "\n",
    "# Print the size of the training and testing sets\n",
    "print(\"Training set size:\", len(X_train))\n",
    "print(\"Testing set size:\", len(X_test))"
   ]
  },
  {
   "cell_type": "code",
   "execution_count": 69,
   "id": "9ae9dec2",
   "metadata": {},
   "outputs": [],
   "source": [
    "# Convert all of them into numpy arrays\n",
    "X_train = np.array(X_train)\n",
    "X_test = np.array(X_test)\n",
    "y_train = np.array(y_train)\n",
    "y_test = np.array(y_test)"
   ]
  },
  {
   "cell_type": "code",
   "execution_count": 70,
   "id": "95966730",
   "metadata": {},
   "outputs": [],
   "source": [
    "# X_train = x_train.reshape((8000, max_height*max_width))\n",
    "# X_test = x_test.reshape((2000, max_height*max_width))"
   ]
  },
  {
   "cell_type": "markdown",
   "id": "b343ce34",
   "metadata": {},
   "source": [
    "Check an image from the training set and its label."
   ]
  },
  {
   "cell_type": "code",
   "execution_count": 71,
   "id": "47e95cec",
   "metadata": {},
   "outputs": [
    {
     "data": {
      "image/png": "[encoded data removed]",
      "text/plain": [
       "<Figure size 640x480 with 1 Axes>"
      ]
     },
     "metadata": {},
     "output_type": "display_data"
    }
   ],
   "source": [
    "fig = plt.figure()\n",
    "plt.imshow(X_train[0], cmap=plt.cm.binary, interpolation=\"nearest\")\n",
    "plt.axis(\"off\")\n",
    "plt.show()"
   ]
  },
  {
   "cell_type": "code",
   "execution_count": 72,
   "id": "46de2856",
   "metadata": {},
   "outputs": [
    {
     "data": {
      "text/plain": [
       "100"
      ]
     },
     "execution_count": 72,
     "metadata": {},
     "output_type": "execute_result"
    }
   ],
   "source": [
    "# Take a look at its class\n",
    "y_train[0]"
   ]
  },
  {
   "cell_type": "markdown",
   "id": "8157ebd1",
   "metadata": {},
   "source": [
    "As the previous example shows, the labels and images are in order.\n",
    "\n",
    "# Building a Convolutional Neural Net\n",
    "\n",
    "Our model consists of several layers: \n",
    "* an input layer of size max width and max height, the depth being 1 for grayscale image\n",
    "* a rescaling layer: to work easily with the numbers in the matrices, all numbers should be between 0 and 1. Therefore, the greyscale values should be divided by 255\n",
    "* convolutional layers: they contain 64 or 128 filters/neurons; the chosen kernel size is 3x3 and the activation function is ReLU\n",
    "* max pooling layers: they decrease the input to half of its size, however, the depth doesn't change; the pooling window indicates the decrease height/2, width/2\n",
    "* flattening layer: creates a list from the matrices, multiplying all the dimensions\n",
    "* dense layer: they are the tipical neural net layers where all neurons are connected with every other neuron; one of the dense layers has 2048, the other one 1000 neurons\n",
    "* output layer: the last dense layer, which has 1000 neurons, one to predict each number from the interval [0-999]; it uses softmax activation function"
   ]
  },
  {
   "cell_type": "code",
   "execution_count": 73,
   "id": "03135428",
   "metadata": {},
   "outputs": [],
   "source": [
    "inputs = Input(shape=(40, 108, 1))\n",
    "x = Rescaling(scale=1./255)(inputs)\n",
    "x = Conv2D(filters=64, kernel_size=(3, 3), activation=\"relu\")(x)\n",
    "x = MaxPooling2D(pool_size=(2, 2))(x)\n",
    "x = Conv2D(filters=128, kernel_size=(3, 3), activation=\"relu\")(x)\n",
    "x = MaxPooling2D(pool_size=(2, 2))(x)\n",
    "x = Conv2D(filters=128, kernel_size=(3, 3), activation=\"relu\")(x)\n",
    "x = MaxPooling2D(pool_size=(2, 2))(x)\n",
    "x = Flatten()(x)\n",
    "x = Dense(2048, activation=\"relu\")(x)\n",
    "outputs = Dense(1000, activation=\"softmax\")(x)\n",
    "convnet = Model(inputs, outputs)\n",
    "convnet.compile(optimizer=\"adam\", loss=\"sparse_categorical_crossentropy\", metrics=[\"accuracy\"])"
   ]
  },
  {
   "cell_type": "code",
   "execution_count": 74,
   "id": "7ef3e5b8",
   "metadata": {},
   "outputs": [
    {
     "name": "stdout",
     "output_type": "stream",
     "text": [
      "Model: \"model_2\"\n",
      "_________________________________________________________________\n",
      " Layer (type)                Output Shape              Param #   \n",
      "=================================================================\n",
      " input_3 (InputLayer)        [(None, 40, 108, 1)]      0         \n",
      "                                                                 \n",
      " rescaling_2 (Rescaling)     (None, 40, 108, 1)        0         \n",
      "                                                                 \n",
      " conv2d_5 (Conv2D)           (None, 38, 106, 64)       640       \n",
      "                                                                 \n",
      " max_pooling2d_5 (MaxPooling  (None, 19, 53, 64)       0         \n",
      " 2D)                                                             \n",
      "                                                                 \n",
      " conv2d_6 (Conv2D)           (None, 17, 51, 128)       73856     \n",
      "                                                                 \n",
      " max_pooling2d_6 (MaxPooling  (None, 8, 25, 128)       0         \n",
      " 2D)                                                             \n",
      "                                                                 \n",
      " conv2d_7 (Conv2D)           (None, 6, 23, 128)        147584    \n",
      "                                                                 \n",
      " max_pooling2d_7 (MaxPooling  (None, 3, 11, 128)       0         \n",
      " 2D)                                                             \n",
      "                                                                 \n",
      " flatten_2 (Flatten)         (None, 4224)              0         \n",
      "                                                                 \n",
      " dense_4 (Dense)             (None, 2048)              8652800   \n",
      "                                                                 \n",
      " dense_5 (Dense)             (None, 1000)              2049000   \n",
      "                                                                 \n",
      "=================================================================\n",
      "Total params: 10,923,880\n",
      "Trainable params: 10,923,880\n",
      "Non-trainable params: 0\n",
      "_________________________________________________________________\n"
     ]
    }
   ],
   "source": [
    "convnet.summary()"
   ]
  },
  {
   "cell_type": "markdown",
   "id": "bcc89bf1",
   "metadata": {},
   "source": [
    "The summary shows the output shape, where we can see how the 40 * 108 size matrix decreases gradually, and it shows the number of parameters in each layer. The number of these parameters can be calculated by taking into consideration the type of the layer and the shape of the previous layer."
   ]
  },
  {
   "cell_type": "markdown",
   "id": "43a88cfd",
   "metadata": {},
   "source": [
    "# Training the Neural Net\n",
    "\n",
    "The .fit function trains the neural net, using a batch size of 128 (chosen by us), and it calculates in 10 epochs."
   ]
  },
  {
   "cell_type": "code",
   "execution_count": 75,
   "id": "5e2553ac",
   "metadata": {},
   "outputs": [
    {
     "name": "stdout",
     "output_type": "stream",
     "text": [
      "Epoch 1/10\n",
      "50/50 [==============================] - 64s 1s/step - loss: 4.9822 - accuracy: 0.0759 - val_loss: 4.3813 - val_accuracy: 0.1094\n",
      "Epoch 2/10\n",
      "50/50 [==============================] - 60s 1s/step - loss: 4.0286 - accuracy: 0.1311 - val_loss: 3.6745 - val_accuracy: 0.2069\n",
      "Epoch 3/10\n",
      "50/50 [==============================] - 61s 1s/step - loss: 2.9800 - accuracy: 0.3162 - val_loss: 2.7045 - val_accuracy: 0.3800\n",
      "Epoch 4/10\n",
      "50/50 [==============================] - 61s 1s/step - loss: 1.7992 - accuracy: 0.5494 - val_loss: 2.2302 - val_accuracy: 0.5025\n",
      "Epoch 5/10\n",
      "50/50 [==============================] - 61s 1s/step - loss: 0.9253 - accuracy: 0.7383 - val_loss: 2.1344 - val_accuracy: 0.5412\n",
      "Epoch 6/10\n",
      "50/50 [==============================] - 61s 1s/step - loss: 0.3560 - accuracy: 0.8961 - val_loss: 2.5711 - val_accuracy: 0.5663\n",
      "Epoch 7/10\n",
      "50/50 [==============================] - 63s 1s/step - loss: 0.1488 - accuracy: 0.9544 - val_loss: 2.7140 - val_accuracy: 0.5788\n",
      "Epoch 8/10\n",
      "50/50 [==============================] - 61s 1s/step - loss: 0.0753 - accuracy: 0.9797 - val_loss: 2.8385 - val_accuracy: 0.5981\n",
      "Epoch 9/10\n",
      "50/50 [==============================] - 61s 1s/step - loss: 0.0326 - accuracy: 0.9925 - val_loss: 2.9298 - val_accuracy: 0.6037\n",
      "Epoch 10/10\n",
      "50/50 [==============================] - 61s 1s/step - loss: 0.0301 - accuracy: 0.9919 - val_loss: 2.9632 - val_accuracy: 0.5925\n"
     ]
    },
    {
     "data": {
      "text/plain": [
       "<keras.callbacks.History at 0x1fd875fe4d0>"
      ]
     },
     "execution_count": 75,
     "metadata": {},
     "output_type": "execute_result"
    }
   ],
   "source": [
    "convnet.fit(X_train, y_train, epochs=10, batch_size=128, \n",
    "            validation_split=0.2)\n",
    "            #callbacks=[EarlyStopping(monitor=\"val_loss\", patience=2, restore_best_weights=True)])"
   ]
  },
  {
   "cell_type": "markdown",
   "id": "81d5a7b1",
   "metadata": {},
   "source": [
    "# Test the Model"
   ]
  },
  {
   "cell_type": "code",
   "execution_count": 76,
   "id": "db12aaee",
   "metadata": {},
   "outputs": [
    {
     "name": "stdout",
     "output_type": "stream",
     "text": [
      "63/63 [==============================] - 6s 96ms/step - loss: 2.8179 - accuracy: 0.6145\n"
     ]
    },
    {
     "data": {
      "text/plain": [
       "0.6144999861717224"
      ]
     },
     "execution_count": 76,
     "metadata": {},
     "output_type": "execute_result"
    }
   ],
   "source": [
    "test_loss, test_acc = convnet.evaluate(X_test, y_test)\n",
    "test_acc"
   ]
  },
  {
   "cell_type": "markdown",
   "id": "016361c0",
   "metadata": {},
   "source": [
    "We can clearly see that the test accuracy is way lower than the training accuracy of the model.\n",
    "\n",
    "In the process of fine tuning and tring out different no of neurons, different kernels and different number of layers of different kind, we got vairous results.\n",
    "\n",
    "At first we had a 0.3 accuracy after testing.\n",
    "\n",
    "Then we changed the parameters and the convolutional layers to get a higher accuracy.\n",
    "\n",
    "The next try resulted in 0.44 accuracy.\n",
    "\n",
    "# Final Result\n",
    "\n",
    "The highest accuracy that we could achieve with this model was 0.62 so far. This result can be improved with fiddling around with the layers and parameters. We have built this model from scratch and it took a lot of time to run it after modifications on our laptops. Therefore, we have decided to stop at this accuracy rate, however small it is compared to a desired 80-90%."
   ]
  },
  {
   "cell_type": "code",
   "execution_count": null,
   "id": "c8f5b48b",
   "metadata": {},
   "outputs": [],
   "source": []
  }
 ],
 "metadata": {
  "kernelspec": {
   "display_name": "Python 3 (ipykernel)",
   "language": "python",
   "name": "python3"
  },
  "language_info": {
   "codemirror_mode": {
    "name": "ipython",
    "version": 3
   },
   "file_extension": ".py",
   "mimetype": "text/x-python",
   "name": "python",
   "nbconvert_exporter": "python",
   "pygments_lexer": "ipython3",
   "version": "3.10.0"
  }
 },
 "nbformat": 4,
 "nbformat_minor": 5
}
